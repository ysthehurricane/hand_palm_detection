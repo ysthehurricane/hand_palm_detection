{
 "cells": [
  {
   "cell_type": "code",
   "execution_count": 23,
   "metadata": {},
   "outputs": [],
   "source": [
    "import cv2\n",
    "import mediapipe as mp\n",
    "import time\n",
    "\n",
    "cap = cv2.VideoCapture(0)\n",
    "\n",
    "mphands = mp.solutions.hands\n",
    "hands = mphands.Hands() \n",
    "mpdraw = mp.solutions.drawing_utils\n",
    "\n",
    "previous_time = 0\n",
    "current_time = 0\n",
    "\n",
    "while True:\n",
    "    \n",
    "    check , frame = cap.read()\n",
    "    img = cv2.cvtColor(frame, cv2.COLOR_BGR2RGB)\n",
    "    results = hands.process(img)\n",
    "    \n",
    "    if results.multi_hand_landmarks:\n",
    "        for handlms in results.multi_hand_landmarks:\n",
    "            mpdraw.draw_landmarks(frame, handlms, mphands.HAND_CONNECTIONS)\n",
    "            for idx,lm in enumerate(handlms.landmark):\n",
    "                \n",
    "                #print(idx,lm)\n",
    "                h,w,c = frame.shape\n",
    "                cx,cy = int(lm.x*w), int(lm.y*h)\n",
    "                \n",
    "                #print(idx,cx,cy)\n",
    "                \n",
    "                if idx == 0:\n",
    "                    cv2.circle(frame, (cx,cy), 5, (255,0,255), cv2.FILLED)\n",
    "                    \n",
    "    \n",
    "    current_time = time.time()\n",
    "    fps = 1 / (current_time - previous_time)\n",
    "    previous_time = current_time\n",
    "    \n",
    "    cv2.putText(frame, \"frame rate: \"+str(int(fps)), (10,70), cv2.FONT_HERSHEY_PLAIN, 2, (0,0,255), 2)\n",
    "    cv2.imshow('Hand Detection', frame)\n",
    "        \n",
    "    if cv2.waitKey(1) & 0xFF == ord('q'):\n",
    "        break\n",
    "        \n",
    "cap.release()\n",
    "cv2.destroyAllWindows()"
   ]
  },
  {
   "cell_type": "markdown",
   "metadata": {},
   "source": [
    "### Through Hand Detection module"
   ]
  },
  {
   "cell_type": "code",
   "execution_count": 1,
   "metadata": {},
   "outputs": [],
   "source": [
    "import cv2\n",
    "import mediapipe as mp\n",
    "import time\n",
    "import handDetection as hd\n",
    "\n",
    "cap = cv2.VideoCapture(0)\n",
    "\n",
    "previous_time = 0\n",
    "current_time = 0\n",
    "\n",
    "handdetect = hd.handDetector()\n",
    "\n",
    "while True:\n",
    "    check, frame = cap.read()\n",
    "    frame = handdetect.findhands(frame)\n",
    "    lmlist = handdetect.gethandlocation(frame)\n",
    "\n",
    "    current_time = time.time()\n",
    "    fps = 1 / (current_time - previous_time)\n",
    "    previous_time = current_time\n",
    "\n",
    "    cv2.putText(frame, \"frame rate: \"+str(int(fps)), (10,70), cv2.FONT_HERSHEY_PLAIN, 2, (0,0,255), 2)\n",
    "    cv2.imshow('Hand Detection', frame)\n",
    "\n",
    "    if cv2.waitKey(1) & 0xFF == ord('q'):\n",
    "        break\n",
    "\n",
    "cap.release()\n",
    "cv2.destroyAllWindows()"
   ]
  },
  {
   "cell_type": "code",
   "execution_count": null,
   "metadata": {},
   "outputs": [],
   "source": []
  }
 ],
 "metadata": {
  "kernelspec": {
   "display_name": "Python 3",
   "language": "python",
   "name": "python3"
  },
  "language_info": {
   "codemirror_mode": {
    "name": "ipython",
    "version": 3
   },
   "file_extension": ".py",
   "mimetype": "text/x-python",
   "name": "python",
   "nbconvert_exporter": "python",
   "pygments_lexer": "ipython3",
   "version": "3.7.6"
  }
 },
 "nbformat": 4,
 "nbformat_minor": 4
}
