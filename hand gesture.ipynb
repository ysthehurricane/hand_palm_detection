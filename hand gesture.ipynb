{
 "cells": [
  {
   "cell_type": "code",
   "execution_count": 23,
   "metadata": {},
   "outputs": [],
   "source": [
    "import cv2\n",
    "import mediapipe as mp\n",
    "import time\n",
    "import handDetection as hd\n",
    "\n",
    "cap = cv2.VideoCapture(0)\n",
    "\n",
    "previous_time = 0\n",
    "current_time = 0\n",
    "\n",
    "handdetect = hd.handDetector(detection_confident=0.8)\n",
    "top_idx = [4,8,12,16,20]\n",
    "\n",
    "while True:\n",
    "    check, frame = cap.read()\n",
    "    frame = handdetect.findhands(frame)\n",
    "    lmlist = handdetect.gethandlocation(frame, draw_landmark=False)\n",
    "    \n",
    "    if len(lmlist) != 0:\n",
    "        fingers = []\n",
    "        \n",
    "        if lmlist[top_idx[0]][1] < lmlist[top_idx[0]-1][1]:\n",
    "            fingers.append(1)\n",
    "        else:\n",
    "            fingers.append(0)\n",
    "            \n",
    "        for idx in range(1,5):\n",
    "            if lmlist[top_idx[idx]][2] < lmlist[top_idx[idx]-2][2]:\n",
    "                fingers.append(1)\n",
    "            else:\n",
    "                fingers.append(0)\n",
    "            \n",
    "        #print(fingers)\n",
    "        openfingers = fingers.count(1)\n",
    "        cv2.rectangle(frame, (20,20),(200,200),(0,255,0),cv2.FILLED)\n",
    "        cv2.putText(frame, str(int(openfingers)), (50,170), cv2.FONT_HERSHEY_PLAIN, 10, (255,0,0), 25)\n",
    "        \n",
    "        \n",
    "    current_time = time.time()\n",
    "    fps = 1 / (current_time - previous_time)\n",
    "    previous_time = current_time\n",
    "\n",
    "    cv2.putText(frame, \"frame rate: \"+str(int(fps)), (350,70), cv2.FONT_HERSHEY_PLAIN, 2, (0,0,255), 2)\n",
    "    cv2.imshow('Hand Detection', frame)\n",
    "\n",
    "    if cv2.waitKey(1) & 0xFF == ord('q'):\n",
    "        break\n",
    "\n",
    "cap.release()\n",
    "cv2.destroyAllWindows()"
   ]
  },
  {
   "cell_type": "code",
   "execution_count": null,
   "metadata": {},
   "outputs": [],
   "source": []
  }
 ],
 "metadata": {
  "kernelspec": {
   "display_name": "Python 3",
   "language": "python",
   "name": "python3"
  },
  "language_info": {
   "codemirror_mode": {
    "name": "ipython",
    "version": 3
   },
   "file_extension": ".py",
   "mimetype": "text/x-python",
   "name": "python",
   "nbconvert_exporter": "python",
   "pygments_lexer": "ipython3",
   "version": "3.7.6"
  }
 },
 "nbformat": 4,
 "nbformat_minor": 4
}
